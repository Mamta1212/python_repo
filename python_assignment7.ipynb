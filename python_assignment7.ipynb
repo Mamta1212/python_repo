{
 "cells": [
  {
   "cell_type": "markdown",
   "id": "a10bbc56",
   "metadata": {},
   "source": [
    "python_assignment7"
   ]
  },
  {
   "cell_type": "code",
   "execution_count": 2,
   "id": "dc949a0c",
   "metadata": {},
   "outputs": [
    {
     "name": "stdout",
     "output_type": "stream",
     "text": [
      "The sum of numbers in array is :  72\n"
     ]
    }
   ],
   "source": [
    "### 1. Write a Python Program to find sum of array?\n",
    "array1=[1,11,2,22,3,33]              #initialize array\n",
    "\n",
    "sum=0                                #create variable for sum\n",
    "\n",
    "for i in range(0,len(array1)):\n",
    "    sum=sum+array1[i];\n",
    "    \n",
    "print (\"The sum of numbers in array is : \",sum)"
   ]
  },
  {
   "cell_type": "code",
   "execution_count": 8,
   "id": "fa99040e",
   "metadata": {},
   "outputs": [
    {
     "name": "stdout",
     "output_type": "stream",
     "text": [
      "101\n"
     ]
    }
   ],
   "source": [
    "### 2. Write a Python Program to find largest element in an array?\n",
    "\n",
    "array1=[101,11,2,66,3,33]              #initialize array\n",
    "max_num=array1[0]\n",
    "for i in range(0,len(array1)):         #checking for max value in array using for loop\n",
    "    if array1[i]>max_num:\n",
    "        max_num=array1[i]\n",
    "print (max_num)\n"
   ]
  },
  {
   "cell_type": "code",
   "execution_count": 5,
   "id": "49398873",
   "metadata": {},
   "outputs": [
    {
     "name": "stdout",
     "output_type": "stream",
     "text": [
      "please enter rotate start position5\n",
      "[5, 7, 5, 2, 3, 4, 5, 6]\n"
     ]
    }
   ],
   "source": [
    "### 3. Write a Python Program for array rotation?\n",
    "a=[2,3,4,5,6,5,7,5]\n",
    "d=int(input(\"please enter rotate start position\"))\n",
    "b=[]                    #lets create empty list to store new rotating array\n",
    "for i in range(d,len(a)):\n",
    "    b.append(a[i])      #append element in empty list\n",
    "b.extend(a[0:d])        #extend list with remaining elements\n",
    "print(b)\n"
   ]
  },
  {
   "cell_type": "code",
   "execution_count": 30,
   "id": "c7fbcfe8",
   "metadata": {},
   "outputs": [
    {
     "name": "stdout",
     "output_type": "stream",
     "text": [
      "please enter postive integer for slpit position4\n",
      "[55, 666, 777, 888, 11, 22, 34, 44]\n"
     ]
    }
   ],
   "source": [
    "### 4. Write a Python Program to Split the array and add the first part to the end?\n",
    "\n",
    "arr2=[11,22,34,44,55,666,777,888]\n",
    "split_part=[]\n",
    "split_position=int(input(\"please enter postive integer for slpit position :\"))\n",
    "for i in range(split_position,len(arr2)):              #specify range from split postion to end\n",
    "    split_part.append(arr2[i])                         # appending first part in empty list\n",
    "split_part.extend(arr2[0:split_position])              #extending list with last part\n",
    "\n",
    "print(split_part)\n",
    "\n"
   ]
  },
  {
   "cell_type": "code",
   "execution_count": 57,
   "id": "96f1eae5",
   "metadata": {},
   "outputs": [
    {
     "name": "stdout",
     "output_type": "stream",
     "text": [
      "True\n",
      "False\n",
      "False\n"
     ]
    }
   ],
   "source": [
    "### 5. Write a Python Program to check if given array is Monotonic?\n",
    "# Monotonic means something that does not vary or change\n",
    "# An array is said to be monotonic in nature if the array elements are continuously increasing or continuously decreasing.\n",
    "#check if monotone\n",
    "#function definition\n",
    "def ismonotonic(a):\n",
    "    n=len(a)                             #size of array\n",
    "    if n==1:                             #lenth of array is 1 return true\n",
    "        return True\n",
    "    else:\n",
    "       \n",
    "        if all(a[i]>=a[i+1] for i in range(0,n-1) or a[i]<=a[i+1] for i in range(0,n-1)):\n",
    "            return True\n",
    "        else:\n",
    "            return False\n",
    "\n",
    "A = [6, 5, 4, 2]\n",
    "print(ismonotonic(A))\n",
    "B=[2,3,4,5,6,7,7]\n",
    "print(ismonotonic(B))\n",
    "c=[5,2,5,1,0]\n",
    "print(ismonotonic(c))"
   ]
  }
 ],
 "metadata": {
  "kernelspec": {
   "display_name": "Python 3 (ipykernel)",
   "language": "python",
   "name": "python3"
  },
  "language_info": {
   "codemirror_mode": {
    "name": "ipython",
    "version": 3
   },
   "file_extension": ".py",
   "mimetype": "text/x-python",
   "name": "python",
   "nbconvert_exporter": "python",
   "pygments_lexer": "ipython3",
   "version": "3.9.13"
  }
 },
 "nbformat": 4,
 "nbformat_minor": 5
}
