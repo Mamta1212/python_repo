{
 "cells": [
  {
   "cell_type": "markdown",
   "id": "88dcd95a",
   "metadata": {},
   "source": [
    "# Python Basic Programming Assignment 12"
   ]
  },
  {
   "cell_type": "code",
   "execution_count": 24,
   "id": "d09f5ed0",
   "metadata": {},
   "outputs": [
    {
     "name": "stdout",
     "output_type": "stream",
     "text": [
      "The original dictionary is :  {'jan': [100, 101, 103], 'feb': [200, 201, 100, 101], 'mar': [200, 301, 303], 'apr': [100, 201, 901], 'may': [201, 300, 902]}\n",
      "The unique values list is :  [100, 101, 103, 200, 201, 300, 301, 303, 901, 902]\n"
     ]
    }
   ],
   "source": [
    "### 1. Write a Python program to Extract Unique values in dictionary values?\n",
    "#A dictionary is a collection which is ordered*, changeable and do not allow duplicates.\n",
    "\n",
    "\n",
    "my_dict1={'jan':[100,101,103],'feb':[200,201,100,101],'mar':[200,301,303],'apr':[100,201,901],'may':[201,300,902]}\n",
    "print(\"The original dictionary is : \" ,(my_dict1))            \n",
    "unique_values = list(sorted({i for j in my_dict1.values() for i in j}))\n",
    "print(\"The unique values list is : \" , unique_values) "
   ]
  },
  {
   "cell_type": "code",
   "execution_count": 20,
   "id": "e7513b10",
   "metadata": {},
   "outputs": [
    {
     "name": "stdout",
     "output_type": "stream",
     "text": [
      "550\n"
     ]
    }
   ],
   "source": [
    "### 2. Write a Python program to find the sum of all items in a dictionary?\n",
    "my_dict2={'mamta':100,'yogita':200,'yogesh':250}\n",
    "sum=0\n",
    "for i in my_dict2:\n",
    "    sum=sum+my_dict2[i]\n",
    "print(sum)"
   ]
  },
  {
   "cell_type": "code",
   "execution_count": 22,
   "id": "c805372d",
   "metadata": {},
   "outputs": [
    {
     "name": "stdout",
     "output_type": "stream",
     "text": [
      "{'a': 11, 'b': 22, 'c': 33, 2: 'c', 4: 'd'}\n"
     ]
    }
   ],
   "source": [
    "### 3. Write a Python program to Merging two Dictionaries?\n",
    "dict_1 = {'a':11,'b':22,'c':33}\n",
    "dict_2 = {2: 'c', 4: 'd'}\n",
    "\n",
    "print(dict_1 | dict_2)\n"
   ]
  },
  {
   "cell_type": "code",
   "execution_count": 27,
   "id": "ab2845bc",
   "metadata": {},
   "outputs": [
    {
     "name": "stdout",
     "output_type": "stream",
     "text": [
      "The dictionary is : \n",
      " {'name_of_month': ['July', 'Aug', 'Sept', 'Oct', 'Nov', 'Dec'], 'month_num': [7, 8, 9, 10, 11, 12]}\n",
      "Flattened dictionary is  :\n",
      "f {1: 'Jan', 2: 'Feb', 3: 'March', 4: 'Apr', 5: 'May', 6: 'June'}\n"
     ]
    }
   ],
   "source": [
    "### 4. Write a Python program to convert key-values list to flat dictionary?\n",
    "## itertools.product(*iterables, repeat=1): It returns the cartesian product of the provided iterable with itself for the number of times specified .\n",
    "from itertools import product\n",
    "my_dict4={'name_of_month' : ['July', 'Aug', 'Sept', 'Oct', 'Nov', 'Dec'], 'month_num' : [7, 8, 9, 10, 11, 12]}\n",
    "print(\"The dictionary is : \\n\",my_dict4)\n",
    "flat_dict= dict(zip(my_dict['month_num'], my_dict['name_of_month']))\n",
    "print(\"Flattened dictionary is  :\\n\",flat_dict)"
   ]
  },
  {
   "cell_type": "code",
   "execution_count": 23,
   "id": "a31ca9f6",
   "metadata": {},
   "outputs": [
    {
     "name": "stdout",
     "output_type": "stream",
     "text": [
      "result Dictionary :\n",
      " OrderedDict([('jan', 400), ('feb', 100), ('march', 200), ('april', 300)])\n"
     ]
    }
   ],
   "source": [
    "### 5. Write a Python program to insertion at the beginning in OrderedDict?\n",
    "#Import OrderedDict from collections\n",
    "\n",
    "from collections import OrderedDict      #in OrderedDict, it maintains the orders of keys as inserted.\n",
    "\n",
    "dic1 = OrderedDict({'feb': 100, 'march': 200, 'april':300})\n",
    "my_dic=OrderedDict(dic1)                                     #convert into oredereddict\n",
    "my_dic.update({'jan': 400})                                  #udating with new element\n",
    "my_dic.move_to_end('jan', last = False)            # last= False  means attch to start\n",
    "print (\"result Dictionary :\\n\",my_dic)\n"
   ]
  },
  {
   "cell_type": "code",
   "execution_count": 75,
   "id": "d6a6c2d4",
   "metadata": {},
   "outputs": [
    {
     "name": "stdout",
     "output_type": "stream",
     "text": [
      "Enter string\n",
      "hi there\n",
      "enter pattern to check with\n",
      "th\n",
      "the order of charachter in string is incorrect\n"
     ]
    }
   ],
   "source": [
    "### 6. Write a Python program to check order of character in string using OrderedDict()?\n",
    "#When it is required to check the order of the character in the string, the ‘OrderedDict’ method can be used.\n",
    "#we have already imported orderedDict from collection\n",
    "my_string=input(\"Enter string\\n\")\n",
    "check_patrn=input(\"enter pattern to check with\\n\")\n",
    "len_patrn=0\n",
    "my_ord_string= OrderedDict.fromkeys(my_string)\n",
    "for key,value in my_ord_string.items():\n",
    "    if (key==check_patrn[len_patrn]):\n",
    "        len_patrn=len_patrn+1\n",
    "    if (len_patrn == (len(check_patrn))):\n",
    "            print(\"the order of charachter in string is correct\")\n",
    "else:\n",
    "    print(\"the order of charachter in string is incorrect\")      \n",
    "            \n",
    "            "
   ]
  },
  {
   "cell_type": "code",
   "execution_count": 76,
   "id": "1405f05d",
   "metadata": {},
   "outputs": [
    {
     "name": "stdout",
     "output_type": "stream",
     "text": [
      "[11, 22, 33]\n"
     ]
    }
   ],
   "source": [
    "### 7. Write a Python program to sort Python Dictionaries by Key or Value?\n",
    "dict_1 = {'a':11,'b':22,'c':33}\n",
    "\n",
    "sorted_dict1_value = sorted(dict_1.values())\n",
    "print(sorted_dict1_value)\n"
   ]
  },
  {
   "cell_type": "code",
   "execution_count": 77,
   "id": "d01f845d",
   "metadata": {},
   "outputs": [
    {
     "name": "stdout",
     "output_type": "stream",
     "text": [
      "['a', 'b', 'c']\n"
     ]
    }
   ],
   "source": [
    "### 7. Write a Python program to sort Python Dictionaries by Key or Value?\n",
    "dict_1 = {'a':11,'b':22,'c':33}\n",
    "\n",
    "sorted_dict1_keys = sorted(dict_1.keys())\n",
    "print(sorted_dict1_keys)\n"
   ]
  }
 ],
 "metadata": {
  "kernelspec": {
   "display_name": "Python 3 (ipykernel)",
   "language": "python",
   "name": "python3"
  },
  "language_info": {
   "codemirror_mode": {
    "name": "ipython",
    "version": 3
   },
   "file_extension": ".py",
   "mimetype": "text/x-python",
   "name": "python",
   "nbconvert_exporter": "python",
   "pygments_lexer": "ipython3",
   "version": "3.9.13"
  }
 },
 "nbformat": 4,
 "nbformat_minor": 5
}
