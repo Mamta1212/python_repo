{
 "cells": [
  {
   "cell_type": "code",
   "execution_count": 34,
   "id": "1f125184",
   "metadata": {},
   "outputs": [
    {
     "name": "stdout",
     "output_type": "stream",
     "text": [
      "[6, 6, 11]\n",
      "[9, 14, 8]\n",
      "[2, 7, 9]\n"
     ]
    }
   ],
   "source": [
    "### 1. Write a Python Program to Add Two Matrices?\n",
    "A=[[1,2,3],\n",
    "   [4,5,7],\n",
    "   [1,3,2]]\n",
    "\n",
    "\n",
    "B=[[5,4,8],\n",
    "   [5,9,1],\n",
    "   [1,4,7]]\n",
    "                            # Adding two matrices\n",
    "\n",
    "addition=[[0,0,0],               # creating emptry matrix to store result of addition\n",
    "        [0,0,0],\n",
    "        [0,0,0]]    \n",
    "\n",
    "for i in range(len(A)):                  # iterate over \n",
    "    for j in range (len(A[0])):\n",
    "        addition[i][j]=A[i][j] + B[i][j]\n",
    "        \n",
    "for k in addition:\n",
    "    print(k)"
   ]
  },
  {
   "cell_type": "code",
   "execution_count": 32,
   "id": "a8829e9c",
   "metadata": {},
   "outputs": [
    {
     "name": "stdout",
     "output_type": "stream",
     "text": [
      "[18, 34, 31]\n",
      "[52, 89, 86]\n",
      "[22, 39, 25]\n"
     ]
    }
   ],
   "source": [
    "### 2. Write a Python Program to Multiply Two Matrices?\n",
    "##condition for matrices multipilcation is number of rows in A=number of columns in B\n",
    "\n",
    "A=[[1,2,3],              #row= i, column=k\n",
    "   [4,5,7],\n",
    "   [1,3,2]]\n",
    "\n",
    "\n",
    "B=[[5,4,8],              #row=k, column=j\n",
    "   [5,9,1],\n",
    "   [1,4,7]]\n",
    "                            # multiply two matrices\n",
    "\n",
    "product=[[0,0,0],               # creating emptry matrix to store result \n",
    "        [0,0,0],\n",
    "        [0,0,0]]    \n",
    "\n",
    "for i in range(len(A)):                        # iterate over rows of A\n",
    "    for j in range(len(B[0])):                 # iterate over columns of B, B[0] is first column\n",
    "        for k in range(len(B)):                # iterate over rows of B\n",
    "            product[i][j]+=A[i][k]*B[k][j]               #resultant matrix \n",
    "for r in product:                              #iterate over each element of product matrix and printing it.\n",
    "    print (r)\n",
    "                                 \n"
   ]
  },
  {
   "cell_type": "code",
   "execution_count": 3,
   "id": "193c3715",
   "metadata": {},
   "outputs": [
    {
     "name": "stdout",
     "output_type": "stream",
     "text": [
      "[1, 4, 1]\n",
      "[2, 5, 3]\n",
      "[3, 7, 2]\n"
     ]
    }
   ],
   "source": [
    "### 3. Write a Python Program to Transpose a Matrix?\n",
    "A=[[1,2,3],\n",
    "   [4,5,7],\n",
    "   [1,3,2]]\n",
    "\n",
    "transpose=[[0,0,0],               # creating emptry matrix to store transpose\n",
    "          [0,0,0],\n",
    "           [0,0,0]]   \n",
    "\n",
    "for i in range(len(A)):                                   #iterate over rows\n",
    "    for j in range(len(A[0])):                            #iterate over columns\n",
    "                transpose[j][i]=A[i][j]                  \n",
    "for r in transpose:                                        #iterating over elements in transpose\n",
    "                    print(r)             \n"
   ]
  },
  {
   "cell_type": "code",
   "execution_count": 11,
   "id": "56ed6715",
   "metadata": {},
   "outputs": [
    {
     "name": "stdout",
     "output_type": "stream",
     "text": [
      "['Bharat', 'Desh', 'Hamara', 'Mahan']\n"
     ]
    }
   ],
   "source": [
    "### 4. Write a Python Program to Sort Words in Alphabetic Order?\n",
    "my_words=(\"Bharat Desh Mahan Hamara\")\n",
    "words = my_words. split()\n",
    "words.sort()\n",
    "print(words)"
   ]
  },
  {
   "cell_type": "code",
   "execution_count": 31,
   "id": "9bf15aec",
   "metadata": {},
   "outputs": [
    {
     "name": "stdout",
     "output_type": "stream",
     "text": [
      "how much time will it take\n"
     ]
    }
   ],
   "source": [
    "### 5. Write a Python Program to Remove Punctuation From a String?\n",
    "\n",
    "import string                                           #importing library string\n",
    "\n",
    "test_string1 = \"how 'mu./ch? time will' it [take?\"          \n",
    "\n",
    "for character in string.punctuation:                     #iterate over string words\n",
    "    test_string1 = test_string1.replace(character, '')   #find and replace punctuations \n",
    "print(test_string1)"
   ]
  }
 ],
 "metadata": {
  "kernelspec": {
   "display_name": "Python 3 (ipykernel)",
   "language": "python",
   "name": "python3"
  },
  "language_info": {
   "codemirror_mode": {
    "name": "ipython",
    "version": 3
   },
   "file_extension": ".py",
   "mimetype": "text/x-python",
   "name": "python",
   "nbconvert_exporter": "python",
   "pygments_lexer": "ipython3",
   "version": "3.9.13"
  }
 },
 "nbformat": 4,
 "nbformat_minor": 5
}
