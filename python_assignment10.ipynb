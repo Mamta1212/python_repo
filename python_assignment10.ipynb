{
 "cells": [
  {
   "cell_type": "markdown",
   "id": "4cd9f8ab",
   "metadata": {},
   "source": [
    "## Python Basic Programming Assignment 10"
   ]
  },
  {
   "cell_type": "code",
   "execution_count": 2,
   "id": "85641de3",
   "metadata": {},
   "outputs": [
    {
     "name": "stdout",
     "output_type": "stream",
     "text": [
      "Sum of elements in list1 is:  18\n"
     ]
    }
   ],
   "source": [
    "### 1. Write a Python program to find sum of elements in list?\n",
    "def sum_list(list1):    #initialize function\n",
    "    sum=0               #variable to store sum\n",
    "    for i in list1:     \n",
    "        sum=sum+i\n",
    "    return sum\n",
    "list1=[2,3,1,5,7]          #enter list\n",
    "print(\"Sum of elements in list1 is: \",sum_list(list1))"
   ]
  },
  {
   "cell_type": "code",
   "execution_count": 4,
   "id": "a02a69b2",
   "metadata": {},
   "outputs": [
    {
     "name": "stdout",
     "output_type": "stream",
     "text": [
      "product of all elements in list2 is  12\n"
     ]
    }
   ],
   "source": [
    "### 2. Write a Python program to  Multiply all numbers in the list?\n",
    "def list_mult(list2):\n",
    "    product=0\n",
    "    for i in list2:\n",
    "        product=i*(i+1)\n",
    "    return product\n",
    "list2=[1,2,3]\n",
    "print(\"product of all elements in list2 is \",list_mult(list2))"
   ]
  },
  {
   "cell_type": "code",
   "execution_count": 7,
   "id": "1534b1dc",
   "metadata": {},
   "outputs": [
    {
     "name": "stdout",
     "output_type": "stream",
     "text": [
      "smallest number in a list3 is  6\n"
     ]
    }
   ],
   "source": [
    "### 3. Write a Python program to find smallest number in a list?\n",
    "list3=[11,33,21,54,6]\n",
    "list3.sort()\n",
    "print(\"smallest number in a list3 is \",list3[0])            "
   ]
  },
  {
   "cell_type": "code",
   "execution_count": 8,
   "id": "0e0eea2f",
   "metadata": {},
   "outputs": [
    {
     "name": "stdout",
     "output_type": "stream",
     "text": [
      "largest number in a list3 is  54\n"
     ]
    }
   ],
   "source": [
    "### 4. Write a Python program to find largest number in a list?\n",
    "list3=[11,33,21,54,6]\n",
    "list3.sort()\n",
    "print(\"largest number in a list3 is \",list3[-1])       "
   ]
  },
  {
   "cell_type": "code",
   "execution_count": 9,
   "id": "d38fb5fb",
   "metadata": {},
   "outputs": [
    {
     "name": "stdout",
     "output_type": "stream",
     "text": [
      "largest number in a list3 is  33\n"
     ]
    }
   ],
   "source": [
    "### 5. Write a Python program to find second largest number in a list?\n",
    "list3=[11,33,21,54,6]\n",
    "list3.sort()\n",
    "print(\"Second largest number in a list3 is \",list3[-2])          "
   ]
  },
  {
   "cell_type": "code",
   "execution_count": 32,
   "id": "e3e0184e",
   "metadata": {},
   "outputs": [
    {
     "name": "stdout",
     "output_type": "stream",
     "text": [
      "please enter number of largest elements you want4\n",
      "4 largest elements from list4 are: [33, 43, 443, 632]\n"
     ]
    }
   ],
   "source": [
    "### 6. Write a Python program to find N largest elements from a list?\n",
    "list4=[1,2,33,43,15,443,632,4,2,-1]\n",
    "N=int(input(\"please enter number of largest elements you want\"))\n",
    "list4.sort()\n",
    "print(N,\"largest elements from list4 are:\",list4[-N:])"
   ]
  },
  {
   "cell_type": "code",
   "execution_count": 36,
   "id": "3892d85f",
   "metadata": {},
   "outputs": [
    {
     "name": "stdout",
     "output_type": "stream",
     "text": [
      "[2, 632, 4, 2]\n"
     ]
    }
   ],
   "source": [
    "### 7. Write a Python program to print even numbers in a list?\n",
    "list5=[1,2,33,43,15,443,632,4,2]\n",
    "even_list=[]\n",
    "for i in list5:\n",
    "    if i%2==0:\n",
    "        even_list.append(i)\n",
    "print(even_list)"
   ]
  },
  {
   "cell_type": "code",
   "execution_count": 37,
   "id": "8505f7b4",
   "metadata": {},
   "outputs": [
    {
     "name": "stdout",
     "output_type": "stream",
     "text": [
      "[1, 33, 43, 15, 443]\n"
     ]
    }
   ],
   "source": [
    "### 8. Write a Python program to print odd numbers in a List?\n",
    "list5=[1,2,33,43,15,443,632,4,2]\n",
    "odd_list=[]\n",
    "for i in list5:\n",
    "    if i%2!=0:\n",
    "        odd_list.append(i)\n",
    "print(odd_list)\n"
   ]
  },
  {
   "cell_type": "code",
   "execution_count": 43,
   "id": "8cf8e672",
   "metadata": {},
   "outputs": [
    {
     "name": "stdout",
     "output_type": "stream",
     "text": [
      "[1, 'mamta', 90]\n"
     ]
    }
   ],
   "source": [
    "### 9. Write a Python program to Remove empty List from List?\n",
    "list6=[1,\"mamta\",[],90]\n",
    "new_list=[]\n",
    "for ele in list6:\n",
    "    if ele:\n",
    "        new_list.append(ele)\n",
    "print(new_list)"
   ]
  },
  {
   "cell_type": "code",
   "execution_count": 9,
   "id": "076bd922",
   "metadata": {},
   "outputs": [
    {
     "name": "stdout",
     "output_type": "stream",
     "text": [
      "my_list= ['apple', -1, 'name', 34, []] \n",
      "copy_list= ['apple', -1, 'name', 34, []]\n"
     ]
    }
   ],
   "source": [
    "### 10. Write a Python program to Cloning or Copying a list?\n",
    "my_list=[\"apple\",-1,\"name\",34,[]]\n",
    "copy_list=list(my_list)\n",
    "print(\"my_list=\",my_list,\"\\ncopy_list=\",copy_list)\n"
   ]
  },
  {
   "cell_type": "code",
   "execution_count": 12,
   "id": "aab3576b",
   "metadata": {},
   "outputs": [
    {
     "name": "stdout",
     "output_type": "stream",
     "text": [
      "enter element to be count1\n",
      "Occurrences of 1 in list7 is 3  times\n"
     ]
    }
   ],
   "source": [
    "### 11. Write a Python program to Count occurrences of an element in a list?\n",
    "list7=[1,1,5,\"mamta\",5,50,1,\"mamta\"]\n",
    "count=0\n",
    "n=int(input(\"enter element to be count\"))\n",
    "for i in list7:\n",
    "    if i==n:\n",
    "        count+=1\n",
    "print(\"Occurrences of\",n,\"in list7 is\",count,\" times\")\n",
    "        \n"
   ]
  }
 ],
 "metadata": {
  "kernelspec": {
   "display_name": "Python 3 (ipykernel)",
   "language": "python",
   "name": "python3"
  },
  "language_info": {
   "codemirror_mode": {
    "name": "ipython",
    "version": 3
   },
   "file_extension": ".py",
   "mimetype": "text/x-python",
   "name": "python",
   "nbconvert_exporter": "python",
   "pygments_lexer": "ipython3",
   "version": "3.9.13"
  }
 },
 "nbformat": 4,
 "nbformat_minor": 5
}
