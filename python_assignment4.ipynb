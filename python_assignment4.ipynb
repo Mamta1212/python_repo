{
 "cells": [
  {
   "cell_type": "markdown",
   "id": "5819e810",
   "metadata": {},
   "source": [
    "Python_assignment4"
   ]
  },
  {
   "cell_type": "code",
   "execution_count": 20,
   "id": "772b5b14",
   "metadata": {},
   "outputs": [
    {
     "name": "stdout",
     "output_type": "stream",
     "text": [
      "Enter the Number : 5\n",
      "120\n"
     ]
    }
   ],
   "source": [
    "### 1. Write a Python Program to Find the Factorial of a Number?\n",
    "N = int(input(\"Enter the Number : \"))\n",
    "Factor = 1\n",
    "for i in range(1,N+1):\n",
    "    Factor=Factor*i\n",
    "print(Factor)"
   ]
  },
  {
   "cell_type": "code",
   "execution_count": 52,
   "id": "cbd53dcd",
   "metadata": {},
   "outputs": [
    {
     "name": "stdout",
     "output_type": "stream",
     "text": [
      "Enter the number to form a table:4\n",
      "4\n",
      "8\n",
      "12\n",
      "16\n",
      "20\n",
      "24\n",
      "28\n",
      "32\n",
      "36\n",
      "40\n"
     ]
    }
   ],
   "source": [
    "### 2. Write a Python Program to Display the multiplication Table?\n",
    "num=int(input(\"Enter the number to form a table:\"))\n",
    "for i in range(1,11):\n",
    "   print(num*i)"
   ]
  },
  {
   "cell_type": "code",
   "execution_count": 6,
   "id": "9cf899dd",
   "metadata": {},
   "outputs": [
    {
     "name": "stdout",
     "output_type": "stream",
     "text": [
      "please enter positive integer only? 5\n",
      "The fibonacci sequence of the numbers is:\n",
      "0\n",
      "1\n",
      "1\n",
      "2\n",
      "3\n"
     ]
    }
   ],
   "source": [
    "### 3. Write a Python Program to Print the Fibonacci sequence?\n",
    "#Fabonacci sequence general form is, 0,1,1,2,3,\n",
    "\n",
    "n_terms = int(input (\"please enter positive integer only? \"))  \n",
    "  \n",
    "# First two terms  \n",
    "n1 = 0  \n",
    "n2 = 1  \n",
    "count = 0  \n",
    "  \n",
    "# Now, we will check if the number of terms is valid or not  \n",
    "if n_terms <= 0:  \n",
    "    print (\"Please enter a positive integer, the given number is not valid\")                                        \n",
    "elif n_terms == 1:  \n",
    "    print (\"The Fibonacci sequence of the numbers up to\", n_terms, \": \")    # if user enter 1 as nth term, it give 0 \n",
    "else:  \n",
    "    print (\"The fibonacci sequence of the numbers is:\")                     # if number is \n",
    "    while count < n_terms:  \n",
    "        print(n1)  \n",
    "        nth = n1 + n2       \n",
    "        n1 = n2          #alter the values of terms\n",
    "        n2 = nth  \n",
    "        count=count + 1 \n",
    "    \n",
    "    "
   ]
  },
  {
   "cell_type": "code",
   "execution_count": 2,
   "id": "0c98dffa",
   "metadata": {},
   "outputs": [
    {
     "name": "stdout",
     "output_type": "stream",
     "text": [
      "Enter the number8208\n",
      "Number is Armstrong number\n"
     ]
    }
   ],
   "source": [
    "### 4. Write a Python Program to Check Armstrong Number?\n",
    "#A number is thought of as an Armstrong number if the sum of its own digits raised to the power number of digits \n",
    "#gives the number itself.\n",
    "\n",
    "n=int(input(\"Enter the number\"))\n",
    "power=len(str(n))                                    #to count number of digits in a number\n",
    "\n",
    "sum=0\n",
    "t=n\n",
    "while t>0:\n",
    "    digit=t%10                                       #The remainder of a number when it is divided by 10 is the last digit of that number. \n",
    "    sum=sum+(digit**power)\n",
    "    t=t//10                                          #   //  Floor division\n",
    "if n==sum:\n",
    "    print(\"Number is Armstrong number\")\n",
    "else:\n",
    "    print(\"Number is not an Armstrong number\")   \n",
    "\n",
    "        "
   ]
  },
  {
   "cell_type": "code",
   "execution_count": 11,
   "id": "26ddb12f",
   "metadata": {},
   "outputs": [
    {
     "name": "stdout",
     "output_type": "stream",
     "text": [
      "Enter the start number1\n",
      "Enter the end number4\n",
      "1 Number is Armstrong number\n",
      "2 Number is Armstrong number\n",
      "3 Number is Armstrong number\n"
     ]
    }
   ],
   "source": [
    "### 5. Write a Python Program to Find Armstrong Number in an Interval?\n",
    "#create a range and taking input from user\n",
    "\n",
    "n1=int(input(\"Enter the start number\"))\n",
    "n2=int(input(\"Enter the end number\"))\n",
    "for i in range(n1,n2):\n",
    "\n",
    "    power=len(str(i))                                    #to count number of digits in a number\n",
    "\n",
    "    sum=0\n",
    "    t=i\n",
    "    while t>0:\n",
    "        digit=t%10                                       #The remainder of a number when it is divided by 10 is the last digit of that number. \n",
    "        sum=sum+(digit**power)\n",
    "        t=t//10                                          #   //  Floor division\n",
    "    if i==sum:\n",
    "        print(i,\"Number is Armstrong number\")\n",
    "    else:\n",
    "        print(i,\"Number is not an Armstrong number\")   \n"
   ]
  },
  {
   "cell_type": "code",
   "execution_count": 23,
   "id": "00661b42",
   "metadata": {},
   "outputs": [
    {
     "name": "stdout",
     "output_type": "stream",
     "text": [
      "please enter the number upto you want to add natural numbers 16\n",
      "136\n"
     ]
    }
   ],
   "source": [
    "### 6. Write a Python Program to Find the Sum of Natural Numbers?\n",
    "\n",
    "number=int(input(\"please enter the number upto you want to add natural numbers \"))\n",
    "sum=0\n",
    "while number>0:\n",
    "        sum=sum+number\n",
    "        number=number-1\n",
    "print(sum)    "
   ]
  },
  {
   "cell_type": "markdown",
   "id": "d4a1a0d0",
   "metadata": {},
   "source": [
    " "
   ]
  }
 ],
 "metadata": {
  "kernelspec": {
   "display_name": "Python 3 (ipykernel)",
   "language": "python",
   "name": "python3"
  },
  "language_info": {
   "codemirror_mode": {
    "name": "ipython",
    "version": 3
   },
   "file_extension": ".py",
   "mimetype": "text/x-python",
   "name": "python",
   "nbconvert_exporter": "python",
   "pygments_lexer": "ipython3",
   "version": "3.9.13"
  }
 },
 "nbformat": 4,
 "nbformat_minor": 5
}
