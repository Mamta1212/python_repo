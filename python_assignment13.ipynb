{
 "cells": [
  {
   "cell_type": "markdown",
   "id": "fe4f07c7",
   "metadata": {},
   "source": [
    "# Python Programming Basic Assignment 13"
   ]
  },
  {
   "cell_type": "code",
   "execution_count": 79,
   "id": "e53171e1",
   "metadata": {},
   "outputs": [
    {
     "name": "stdout",
     "output_type": "stream",
     "text": [
      "please enter a list of numbers100,150,180\n",
      "Given values are: \n",
      "C= 50 H= 30 D= ['100', '150', '180']\n",
      "18\n",
      "22\n",
      "24\n"
     ]
    }
   ],
   "source": [
    "### 1. Write a program that calculates and prints the value according to the given formula:\n",
    "\"\"\"Q = Square root of [(2 C D)/H]\n",
    "\n",
    "Following are the fixed values of C and H:\n",
    "\n",
    "C is 50. H is 30.\n",
    "\n",
    "D is the variable whose values should be input to your program in a comma-separated sequence.\n",
    "\n",
    "Example\n",
    "\n",
    "Let us assume the following comma separated input sequence is given to the program:\n",
    "\n",
    "100,150,180\n",
    "\n",
    "The output of the program should be:\n",
    "\n",
    "18,22,24\"\"\"\n",
    "\n",
    "\n",
    "C=50\n",
    "H=30\n",
    "D=input(\"please enter the integer numbers\").split(',')          #we convert input into list\n",
    "print(\"Given values are: \\nC=\",C,\"H=\",H,\"D=\",D)\n",
    "for i in range(len(D)):\n",
    "    D[i] = int(D[i])                                            # converts list of numbers into an integer\n",
    "    sqrt=round(((2*C*D[i])/H)**0.5)\n",
    "    print(sqrt)\n",
    "  "
   ]
  },
  {
   "cell_type": "code",
   "execution_count": 176,
   "id": "e27147b9",
   "metadata": {},
   "outputs": [
    {
     "name": "stdout",
     "output_type": "stream",
     "text": [
      "Row:4\n",
      "Column:3\n",
      "[[0, 0, 0], [0, 1, 2], [0, 2, 4], [0, 0, 0]]\n"
     ]
    }
   ],
   "source": [
    "### 2. Write a program which takes 2 digits, X,Y as input and generates a 2-dimensional array. The element value in the i-th row and j-th column of the array should be i*j.\n",
    "\n",
    "row=int(input(\"Row:\"))\n",
    "col=int(input(\"Column:\"))\n",
    "array=[[0 for i in range(col)] for j in range(row)]\n",
    "for j in range(m):\n",
    "    for i in range(n):\n",
    "        array[j][i]=j*i\n",
    "print(array)\n",
    "\n",
    "\n"
   ]
  },
  {
   "cell_type": "code",
   "execution_count": 135,
   "id": "f698ecea",
   "metadata": {},
   "outputs": [
    {
     "name": "stdout",
     "output_type": "stream",
     "text": [
      "please enter comma seperated words\n",
      "my,name,is,mamta\n",
      "['is', 'mamta', 'my', 'name']\n"
     ]
    }
   ],
   "source": [
    "### 3. Write a program that accepts a comma separated sequence of words as input and prints the words in a comma-separated sequence after sorting them alphabetically.\n",
    "\n",
    "my_words=input(\"please enter comma seperated words\\n\").split(',')\n",
    "x = sorted(my_words)\n",
    "print(x)\n"
   ]
  },
  {
   "cell_type": "code",
   "execution_count": 134,
   "id": "207510fc",
   "metadata": {},
   "outputs": [
    {
     "name": "stdout",
     "output_type": "stream",
     "text": [
      "please enter comma seperated words\n",
      "my name is mamta\n",
      "['is', 'mamta', 'my', 'name']\n"
     ]
    }
   ],
   "source": [
    "## 4. Write a program that accepts a sequence of whitespace separated words as input and prints the words after removing all duplicate words and sorting them alphanumerically.\n",
    "my_words=input(\"please enter comma seperated words\\n\").split(' ')   # \n",
    "set1=set(my_words)\n",
    "x = sorted(set1)                 #converted into set as set gives only uqnique elements \n",
    "print(x)"
   ]
  },
  {
   "cell_type": "code",
   "execution_count": 144,
   "id": "3c3b4299",
   "metadata": {},
   "outputs": [
    {
     "name": "stdout",
     "output_type": "stream",
     "text": [
      "Enter any sentence\n",
      "my name 989 is mamta\n",
      "count of words=: 13\n",
      "count of digits=: 3\n"
     ]
    }
   ],
   "source": [
    "### 5. Write a program that accepts a sentence and calculate the number of letters and digits.\n",
    "my_words=input(\"Enter any sentence\\n\")\n",
    "count_words=0\n",
    "count_digit=0\n",
    "for i in my_words:\n",
    "    if i.isalpha():\n",
    "        count_words+=1\n",
    "    if i.isdigit():\n",
    "        count_digit+=1\n",
    "print(\"count of words=:\",count_words)\n",
    "print(\"count of digits=:\",count_digit)\n",
    "    \n"
   ]
  },
  {
   "cell_type": "code",
   "execution_count": 159,
   "id": "6b934f5e",
   "metadata": {},
   "outputs": [
    {
     "name": "stdout",
     "output_type": "stream",
     "text": [
      "Please enter user name\n",
      "mamta\n",
      "please enter passoword\n",
      "Ma$$4ddkj\n",
      "password is valid\n"
     ]
    }
   ],
   "source": [
    "## 6. A website requires the users to input username and password to register. Write a program to check the validity of password input by users.\n",
    "\"\"\"validation on basis of following standards\n",
    "At least 1 letter between [a-z] and 1 letter between [A-Z].\n",
    "#At least 1 number between [0-9].\n",
    "#At least 1 character from [$#@].\n",
    "#Minimum length 6 characters.\n",
    "#Maximum length 16 characters\"\"\"\n",
    "\n",
    "#Python has a built-in package calld 're' , which can be used to work with Regular Expressions.\n",
    "\n",
    "import re                 \n",
    "user_name=input(\"Please enter user name\\n\")\n",
    "password=input(\"please enter passoword\\n\")\n",
    "if 6<len(password)<16:\n",
    "    if re.search(\"[a-z]\",password):\n",
    "        if re.search(\"[A-Z]\",password):\n",
    "            if re.search(\"[$#@]\",password):\n",
    "                if re.search((\"[0-9]\"),password):\n",
    "                    print(\"password is valid\")\n",
    "else:\n",
    "    print(\"password is not valid\")  \n",
    "                    "
   ]
  }
 ],
 "metadata": {
  "kernelspec": {
   "display_name": "Python 3 (ipykernel)",
   "language": "python",
   "name": "python3"
  },
  "language_info": {
   "codemirror_mode": {
    "name": "ipython",
    "version": 3
   },
   "file_extension": ".py",
   "mimetype": "text/x-python",
   "name": "python",
   "nbconvert_exporter": "python",
   "pygments_lexer": "ipython3",
   "version": "3.9.13"
  }
 },
 "nbformat": 4,
 "nbformat_minor": 5
}
