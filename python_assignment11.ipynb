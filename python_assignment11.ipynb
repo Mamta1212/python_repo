{
 "cells": [
  {
   "cell_type": "markdown",
   "id": "02a97ac0",
   "metadata": {},
   "source": [
    "# Python Basic Programming Assignment 11"
   ]
  },
  {
   "cell_type": "code",
   "execution_count": 9,
   "id": "69da3bed",
   "metadata": {},
   "outputs": [
    {
     "name": "stdout",
     "output_type": "stream",
     "text": [
      "enter legth to be checked with word lengh\n",
      "5\n",
      "The words with greatest length than 5 is\n",
      " ['practice', 'success']\n"
     ]
    }
   ],
   "source": [
    "### 1. Write a Python program to find words which are greater than given length k?\n",
    "my_words=\"Only practice can give you success\"\n",
    "k=int(input(\"enter legth to be checked with word lengh\\n\"))\n",
    "greatest_words=[]\n",
    "word_split=my_words.split(\" \")                   #we use slpit() function to seperate words from string\n",
    "for i in word_split:\n",
    "    if len(i)>k:\n",
    "        greatest_words.append(i)\n",
    "print(\"The words with greatest length than\",k,\"is\\n\",greatest_words)         "
   ]
  },
  {
   "cell_type": "code",
   "execution_count": 21,
   "id": "ad89bc24",
   "metadata": {},
   "outputs": [
    {
     "name": "stdout",
     "output_type": "stream",
     "text": [
      " Enter index of element to be removed from string:  5\n",
      " my string is: Ilikencoding \n",
      " string after removing 5 th chrachter:  Ilikecoding\n"
     ]
    }
   ],
   "source": [
    "### 2. Write a Python program for removing i-th character from a string?\n",
    "s=\"Ilikencoding\"\n",
    "x=int(input(\" Enter index of element to be removed from string:  \"))\n",
    "a = s[ : x]\n",
    "b=s[x+1:]   \n",
    "a+b\n",
    "print(\" my string is:\",s,\"\\n\",\"string after removing\",x,\"th chrachter: \",a+b)"
   ]
  },
  {
   "cell_type": "code",
   "execution_count": 29,
   "id": "9a43af05",
   "metadata": {},
   "outputs": [
    {
     "name": "stdout",
     "output_type": "stream",
     "text": [
      "['life', 'if', 'about', 'learning', 'new', 'things', 'for', 'me']\n",
      "life-if-about-learning-new-things-for-me\n"
     ]
    }
   ],
   "source": [
    "### 3. Write a Python program to split and join a string?\n",
    "string1=\"life if about learning new things for me\"\n",
    "string1_split=string1.split(' ')\n",
    "print(string1_split)\n",
    "new_string='-'.join(string1_split)\n",
    "print(new_string)"
   ]
  },
  {
   "cell_type": "code",
   "execution_count": 141,
   "id": "d41e66fe",
   "metadata": {},
   "outputs": [
    {
     "name": "stdout",
     "output_type": "stream",
     "text": [
      "please enter string0102040521\n",
      "StringA is not a binary string.\n"
     ]
    }
   ],
   "source": [
    "### 4. Write a Python to check if a given string is binary string or not?\n",
    "#binary string means contains only 0's and 1's\n",
    "str1=input(\"please enter string\")\n",
    "set1 = {'0','1'}                   # create set as it stores unique elemnets\n",
    "n= set(str1)                       #convert string in set         \n",
    "\n",
    "if n == set1 or n == {'0'} or n == {'1'}:  \n",
    "    print(\"str1 is a binary string.\")\n",
    "else:\n",
    "    print(\"str1 is not a binary string.\")\n"
   ]
  },
  {
   "cell_type": "code",
   "execution_count": 121,
   "id": "730b7f1a",
   "metadata": {},
   "outputs": [
    {
     "name": "stdout",
     "output_type": "stream",
     "text": [
      "['only', 'can', 'give', 'perfection', 'makes', 'a', 'man', 'perfect']\n"
     ]
    }
   ],
   "source": [
    "### 5. Write a Python program to find uncommon words from two Strings?\n",
    "s1=\"practice practice only practice can give perfection\"\n",
    "s2=\"practice makes a man perfect\"\n",
    "count = {}\n",
    "list_word=[]\n",
    "for i in s1.split():\n",
    "    count[i] = count.get(i, 0) + 1\n",
    "for i in s2.split():\n",
    "    count[i] = count.get(i, 0) + 1\n",
    "for i in count:\n",
    "    if count[i]==1:\n",
    "        list_word.append(i)\n",
    "print(list_word)\n",
    "    "
   ]
  }
 ],
 "metadata": {
  "kernelspec": {
   "display_name": "Python 3 (ipykernel)",
   "language": "python",
   "name": "python3"
  },
  "language_info": {
   "codemirror_mode": {
    "name": "ipython",
    "version": 3
   },
   "file_extension": ".py",
   "mimetype": "text/x-python",
   "name": "python",
   "nbconvert_exporter": "python",
   "pygments_lexer": "ipython3",
   "version": "3.9.13"
  }
 },
 "nbformat": 4,
 "nbformat_minor": 5
}
