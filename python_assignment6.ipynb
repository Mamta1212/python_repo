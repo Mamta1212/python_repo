{
 "cells": [
  {
   "cell_type": "code",
   "execution_count": 10,
   "id": "9e70a274",
   "metadata": {},
   "outputs": [
    {
     "name": "stdout",
     "output_type": "stream",
     "text": [
      "Enter number of terms:5\n",
      "Fabonacci sequence for 5 terms is\n",
      "0\n",
      "1\n",
      "1\n",
      "2\n",
      "3\n"
     ]
    }
   ],
   "source": [
    "### 1. Write a Python Program to Display Fibonacci Sequence Using Recursion?\n",
    "#Recursion is a technique used to solve computer problems by creating a function that calls itself until \n",
    "#your program achieves the desired result.\n",
    "\n",
    "n = int(input(\"Enter number of terms:\"))  #taking input for number of terms wants to print\n",
    "\n",
    "def fibonacci(n):                         #initiating function\n",
    "    if (n<=1):                            #first two terms are 0 and 1\n",
    "        return(n)                        \n",
    "    else:\n",
    "        return(fibonacci(n-1) + fibonacci(n-2))\n",
    "print(\"Fabonacci sequence for\",n,\"terms is\")\n",
    "for i in range(n):\n",
    "    print(fibonacci(i))       \n"
   ]
  },
  {
   "cell_type": "code",
   "execution_count": 8,
   "id": "a06f2ab9",
   "metadata": {},
   "outputs": [
    {
     "name": "stdout",
     "output_type": "stream",
     "text": [
      "please enter positive integer4\n",
      "The factorial of 4 is 24\n"
     ]
    }
   ],
   "source": [
    "### 2. Write a Python Program to Find Factorial of Number Using Recursion?\n",
    "def factorial(x):\n",
    "    if x == 1:                     #base condition\n",
    "        return 1\n",
    "    else:\n",
    "        return (x * factorial(x-1))    # function calls itself by reducing x by 1\n",
    "\n",
    "\n",
    "x=int(input(\"please enter positive integer\"))\n",
    "print(\"The factorial of\", x, \"is\", factorial(x))"
   ]
  },
  {
   "cell_type": "code",
   "execution_count": 17,
   "id": "f5cf7f9d",
   "metadata": {},
   "outputs": [
    {
     "name": "stdout",
     "output_type": "stream",
     "text": [
      "please enter your weight in KG : 45\n",
      "please enter your height in meters : 1.53\n",
      "Healthy Weight\n"
     ]
    }
   ],
   "source": [
    "### 3. Write a Python Program to calculate your Body Mass Index?\n",
    "# BMI=weight/height^2\n",
    "\n",
    "weight=float(input(\"please enter your weight in KG : \"))\n",
    "height=float(input(\"please enter your height in meters : \"))\n",
    "BMI=weight/(height**2)\n",
    "if BMI<=18.5:\n",
    "    print(\"Underweight\")\n",
    "elif 18.5<BMI<=24.0:\n",
    "    print(\"Healthy Weight\")\n",
    "elif 25.0<BMI<=29.9:\n",
    "    print(\"Overweight\")\n",
    "else:\n",
    "    print(\"Obesity\")\n"
   ]
  },
  {
   "cell_type": "code",
   "execution_count": 22,
   "id": "33e98fbe",
   "metadata": {},
   "outputs": [
    {
     "name": "stdout",
     "output_type": "stream",
     "text": [
      "please enter postive integer100\n",
      "please enter base10\n",
      "2.0\n"
     ]
    }
   ],
   "source": [
    "### 4. Write a Python Program to calculate the natural logarithm of any number?\n",
    "x=int(input(\"please enter postive integer\"))\n",
    "base=int(input(\"please enter base\"))\n",
    "import math\n",
    "log_n=math.log(x, base)\n",
    "print(log_n)\n"
   ]
  },
  {
   "cell_type": "code",
   "execution_count": 27,
   "id": "0b5ed08e",
   "metadata": {},
   "outputs": [
    {
     "name": "stdout",
     "output_type": "stream",
     "text": [
      "please enter any natural number4\n",
      "cube sum of first 4 natural number is 100\n"
     ]
    }
   ],
   "source": [
    "### 5. Write a Python Program for cube sum of first n natural numbers?\n",
    "\n",
    "n=int(input(\"please enter any natural number\"))\n",
    "def cube_sum(n):\n",
    "    sum_num=0\n",
    "    for i in range(1,n+1):\n",
    "        sum_num=sum_num+(i*i*i)\n",
    "    return sum_num\n",
    "print(\"cube sum of first\",n,\"natural number is\",cube_sum(n))\n",
    "        "
   ]
  }
 ],
 "metadata": {
  "kernelspec": {
   "display_name": "Python 3 (ipykernel)",
   "language": "python",
   "name": "python3"
  },
  "language_info": {
   "codemirror_mode": {
    "name": "ipython",
    "version": 3
   },
   "file_extension": ".py",
   "mimetype": "text/x-python",
   "name": "python",
   "nbconvert_exporter": "python",
   "pygments_lexer": "ipython3",
   "version": "3.9.13"
  }
 },
 "nbformat": 4,
 "nbformat_minor": 5
}
