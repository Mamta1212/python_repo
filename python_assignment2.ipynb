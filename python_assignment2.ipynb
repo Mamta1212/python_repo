{
 "cells": [
  {
   "cell_type": "markdown",
   "id": "36a08231",
   "metadata": {},
   "source": [
    "python_assignment2"
   ]
  },
  {
   "cell_type": "code",
   "execution_count": 2,
   "id": "cb115da2",
   "metadata": {},
   "outputs": [
    {
     "name": "stdout",
     "output_type": "stream",
     "text": [
      "Enter the kilometers : 2\n",
      "conversion of kilometers to miles:: 1.242742\n"
     ]
    }
   ],
   "source": [
    " #Write a Python program to convert kilometers to miles?\n",
    "kilometer=float(input(\"Enter the kilometers : \"))\n",
    "one_kilometer=0.621371\n",
    "miles=kilometer*one_kilometer\n",
    "print(\"conversion of kilometers to miles::\",miles)\n"
   ]
  },
  {
   "cell_type": "code",
   "execution_count": 4,
   "id": "c1991145",
   "metadata": {},
   "outputs": [
    {
     "name": "stdout",
     "output_type": "stream",
     "text": [
      "Enter the Celsius : 2\n",
      "Conversion of Cesius to Fahrenheit :: 35.6\n"
     ]
    }
   ],
   "source": [
    "# 2.Write a Python program to convert Celsius to Fahrenheit?\n",
    "#celsius to fahrenheit formula:  (0°C × 9/5) + 32 = 32°F\n",
    "Celsius=float(input(\"Enter the Celsius : \"))\n",
    "Fahrenheit=(Celsius * 9/5) + 32\n",
    "print(\"Conversion of Cesius to Fahrenheit ::\", Fahrenheit)\n",
    "\n"
   ]
  },
  {
   "cell_type": "code",
   "execution_count": 9,
   "id": "f8779257",
   "metadata": {},
   "outputs": [
    {
     "name": "stdout",
     "output_type": "stream",
     "text": [
      "Enter year2023\n",
      "Enter month2\n",
      "Your calendar is ::    February 2023\n",
      "Mo Tu We Th Fr Sa Su\n",
      "       1  2  3  4  5\n",
      " 6  7  8  9 10 11 12\n",
      "13 14 15 16 17 18 19\n",
      "20 21 22 23 24 25 26\n",
      "27 28\n",
      "\n"
     ]
    }
   ],
   "source": [
    "#3. Write a Python program to display calendar?\n",
    "\n",
    "import calendar    #import calender module\n",
    "year=int(input(\"Enter year\"))  #take year and month from user\n",
    "month=int(input(\"Enter month\"))\n",
    "\n",
    "print(\"Your calendar is ::\", calendar.month(year,month))"
   ]
  },
  {
   "cell_type": "code",
   "execution_count": 19,
   "id": "d1d168c3",
   "metadata": {},
   "outputs": [
    {
     "name": "stdout",
     "output_type": "stream",
     "text": [
      "Enter value of a = 8\n",
      "Enter value of b = 5\n",
      "Enter value of c = 9\n",
      "Solutions of given quadratic equation are::  (-0.3125+1.0135796712641785j) (-0.3125-1.0135796712641785j)\n"
     ]
    }
   ],
   "source": [
    " #4.Write a Python program to solve quadratic equation?\n",
    "# The quadratic equation given by >> ax2 + bx + c = 0, where a, b and c are real numbers and a ≠ 0\n",
    "# The solutions of this quadratic equation is given by:(-b ± (b ** 2 - 4 * a * c) ** 0.5) / (2 * a)\n",
    "\n",
    "import cmath     #importing complex math module\n",
    "\n",
    "a=int(input(\"Enter value of a = \"))    # taking values of a,b,c from users\n",
    "b=int(input(\"Enter value of b = \"))\n",
    "c=int(input(\"Enter value of c = \"))\n",
    "\n",
    "# qurdratic_equ= ax2 + bx + c =0\n",
    "# to find solutions = to find two values of x\n",
    "# for simplicity of calculation lets use variable, d= (b ** 2) - (4 * a * c)\n",
    "\n",
    "d= (b ** 2) - (4 * a * c)\n",
    "\n",
    "solution1=(-b + cmath.sqrt(d)) / (2 * a)\n",
    "solution2=(-b - cmath.sqrt(d)) / (2 * a)\n",
    "\n",
    "print(\"Solutions of given quadratic equation are:: \",solution1,  solution2)\n"
   ]
  },
  {
   "cell_type": "code",
   "execution_count": 22,
   "id": "60291ecb",
   "metadata": {},
   "outputs": [
    {
     "name": "stdout",
     "output_type": "stream",
     "text": [
      "a= 3\n",
      "b= 2\n"
     ]
    }
   ],
   "source": [
    "# 5. Write a Python program to swap two variables without temp variable?\n",
    "a=2\n",
    "b=3\n",
    "\n",
    "print(\"a=\",b)\n",
    "print(\"b=\",a)\n",
    "\n"
   ]
  },
  {
   "cell_type": "code",
   "execution_count": null,
   "id": "fac7ea08",
   "metadata": {},
   "outputs": [],
   "source": []
  }
 ],
 "metadata": {
  "kernelspec": {
   "display_name": "Python 3 (ipykernel)",
   "language": "python",
   "name": "python3"
  },
  "language_info": {
   "codemirror_mode": {
    "name": "ipython",
    "version": 3
   },
   "file_extension": ".py",
   "mimetype": "text/x-python",
   "name": "python",
   "nbconvert_exporter": "python",
   "pygments_lexer": "ipython3",
   "version": "3.9.13"
  }
 },
 "nbformat": 4,
 "nbformat_minor": 5
}
