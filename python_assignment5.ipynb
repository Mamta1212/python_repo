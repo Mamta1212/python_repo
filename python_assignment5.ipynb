{
 "cells": [
  {
   "cell_type": "markdown",
   "id": "b0ab35a4",
   "metadata": {},
   "source": [
    "python_assignment5"
   ]
  },
  {
   "cell_type": "code",
   "execution_count": 29,
   "id": "cb1b1a1a",
   "metadata": {},
   "outputs": [
    {
     "name": "stdout",
     "output_type": "stream",
     "text": [
      "Enter first number : 27\n",
      "Enter second number : 54\n",
      "Highest common divisor of a numbers is :  27\n"
     ]
    }
   ],
   "source": [
    "### 2. Write a Python Program to Find HCF?\n",
    "factor_list=[]\n",
    "n1=int(input(\"Enter first number : \"))\n",
    "\n",
    "n2=int(input(\"Enter second number : \"))\n",
    "if n1<n2:\n",
    "    smaller=n1\n",
    "else:\n",
    "    smaller=n2\n",
    "for i in range(1,smaller+1):\n",
    "    if ((n1%i==0) and (n2%i==0)):\n",
    "        factor_list.append(i)\n",
    "HCF=max(factor_list)\n",
    "print(\"Highest common divisor of a numbers is : \", HCF)\n",
    "      \n",
    "    "
   ]
  },
  {
   "cell_type": "code",
   "execution_count": 34,
   "id": "51421f47",
   "metadata": {},
   "outputs": [
    {
     "name": "stdout",
     "output_type": "stream",
     "text": [
      "Enter first number : 144\n",
      "Enter second number : 12\n",
      "Least Common Multiplier of 144 and 12 is: 144.0\n"
     ]
    }
   ],
   "source": [
    "### 1. Write a Python Program to Find LCM? using HCF\n",
    "factor_list=[]\n",
    "n1=int(input(\"Enter first number : \"))\n",
    "\n",
    "n2=int(input(\"Enter second number : \"))\n",
    "if n1<n2:\n",
    "    smaller=n1\n",
    "else:\n",
    "    smaller=n2\n",
    "for i in range(1,smaller+1):\n",
    "    if ((n1%i==0) and (n2%i==0)):\n",
    "        factor_list.append(i)\n",
    "HCF=max(factor_list)\n",
    "LCM=(n1*n2)/HCF\n",
    "print(\"Least Common Multiplier of\",n1 ,\"and\" ,n2, \"is:\" ,LCM)"
   ]
  },
  {
   "cell_type": "code",
   "execution_count": 5,
   "id": "628cc5b9",
   "metadata": {},
   "outputs": [
    {
     "name": "stdout",
     "output_type": "stream",
     "text": [
      "Enter the decimal2\n",
      "The decimal value of 2 is:\n",
      "0b10 in binary.\n",
      "0o2 in octal.\n",
      "0x2 in hexadecimal.\n"
     ]
    }
   ],
   "source": [
    "### 3. Write a Python Program to Convert Decimal to Binary, Octal and Hexadecimal?\n",
    "#In decimal to binary, we divide the number by 2, in decimal to hexadecimal we divide the number by 16. \n",
    "#In case of decimal to octal, we divide the number by 8 \n",
    "# Python program to convert decimal into other number systems\n",
    "\n",
    "decimal=int(input(\"Enter the decimal\"))\n",
    "print(\"The decimal value of\", decimal, \"is:\")\n",
    "print(bin(decimal), \"in binary.\")\n",
    "print(oct(decimal), \"in octal.\")\n",
    "print(hex(decimal), \"in hexadecimal.\")"
   ]
  },
  {
   "cell_type": "code",
   "execution_count": 4,
   "id": "a20975ac",
   "metadata": {},
   "outputs": [
    {
     "name": "stdout",
     "output_type": "stream",
     "text": [
      "The ASCII value of 'a' is 97\n"
     ]
    }
   ],
   "source": [
    "### 4. Write a Python Program To Find ASCII value of a character?\n",
    "#It is a numeric value given to different characters and symbols, for computers to store and manipulate. \n",
    "\n",
    "c = 'a'\n",
    "print(\"The ASCII value of '\" + c + \"' is\", ord(c))"
   ]
  },
  {
   "cell_type": "code",
   "execution_count": 36,
   "id": "2c57810f",
   "metadata": {},
   "outputs": [
    {
     "name": "stdout",
     "output_type": "stream",
     "text": [
      "Enter any number33\n",
      "Enter any number11\n",
      "44.0\n",
      "22.0\n",
      "3.0\n",
      "363.0\n"
     ]
    }
   ],
   "source": [
    "#### 5. Write a Python Program to Make a Simple Calculator with 4 basic mathematical operations?\n",
    "a=float(input(\"Enter any number\"))\n",
    "b=float(input(\"Enter any number\"))\n",
    "\n",
    "summ=a+b\n",
    "print(summ)\n",
    "subtract=a-b\n",
    "print(subtract)\n",
    "divide=a/b\n",
    "print(divide)\n",
    "product=a*b\n",
    "print(product)\n",
    "\n"
   ]
  }
 ],
 "metadata": {
  "kernelspec": {
   "display_name": "Python 3 (ipykernel)",
   "language": "python",
   "name": "python3"
  },
  "language_info": {
   "codemirror_mode": {
    "name": "ipython",
    "version": 3
   },
   "file_extension": ".py",
   "mimetype": "text/x-python",
   "name": "python",
   "nbconvert_exporter": "python",
   "pygments_lexer": "ipython3",
   "version": "3.9.13"
  }
 },
 "nbformat": 4,
 "nbformat_minor": 5
}
